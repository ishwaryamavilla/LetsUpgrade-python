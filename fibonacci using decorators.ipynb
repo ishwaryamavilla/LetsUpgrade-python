{
 "cells": [
  {
   "cell_type": "code",
   "execution_count": 1,
   "metadata": {},
   "outputs": [],
   "source": [
    "def decorator(obj):\n",
    "    cache = {}\n",
    "    \n",
    "    \n",
    "    def deco(*args , **kwargs):\n",
    "        if args not in cache:\n",
    "            cache[args] = obj(*args , **kwargs)\n",
    "            \n",
    "        return cache[args]\n",
    "    return deco\n",
    "\n"
   ]
  },
  {
   "cell_type": "code",
   "execution_count": 5,
   "metadata": {},
   "outputs": [],
   "source": [
    "@decorator\n",
    "def fib(n):\n",
    "    \n",
    "     if n < 2:\n",
    "        return n\n",
    "     else:\n",
    "        return fib(n-1) + fib(n-2)\n",
    "            "
   ]
  },
  {
   "cell_type": "code",
   "execution_count": 11,
   "metadata": {},
   "outputs": [
    {
     "name": "stdout",
     "output_type": "stream",
     "text": [
      "13\n"
     ]
    }
   ],
   "source": [
    "print(fib(7))"
   ]
  },
  {
   "cell_type": "code",
   "execution_count": null,
   "metadata": {},
   "outputs": [],
   "source": []
  }
 ],
 "metadata": {
  "kernelspec": {
   "display_name": "Python 3",
   "language": "python",
   "name": "python3"
  },
  "language_info": {
   "codemirror_mode": {
    "name": "ipython",
    "version": 3
   },
   "file_extension": ".py",
   "mimetype": "text/x-python",
   "name": "python",
   "nbconvert_exporter": "python",
   "pygments_lexer": "ipython3",
   "version": "3.8.3"
  }
 },
 "nbformat": 4,
 "nbformat_minor": 4
}
