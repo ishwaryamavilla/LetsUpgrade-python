{
 "cells": [
  {
   "cell_type": "code",
   "execution_count": 5,
   "metadata": {},
   "outputs": [
    {
     "name": "stdout",
     "output_type": "stream",
     "text": [
      "Writing prime.py\n"
     ]
    }
   ],
   "source": [
    "'''\n",
    "function to check a number is prime or not\n",
    "'''\n",
    "\n",
    "def tstprm(num):\n",
    "    '''\n",
    "    for loop\n",
    "    \n",
    "    '''\n",
    "    for x in range(2, num):\n",
    "        if num % x == 0:\n",
    "            return \"not a prime\"\n",
    "        else:\n",
    "            return \"its a prime\"\n",
    "        "
   ]
  },
  {
   "cell_type": "code",
   "execution_count": 6,
   "metadata": {},
   "outputs": [
    {
     "name": "stdout",
     "output_type": "stream",
     "text": [
      "its a prime\n",
      "not a prime\n"
     ]
    }
   ],
   "source": [
    "print(tstprm(13))\n",
    "\n",
    "print(tstprm(8))"
   ]
  },
  {
   "cell_type": "code",
   "execution_count": null,
   "metadata": {},
   "outputs": [],
   "source": []
  }
 ],
 "metadata": {
  "kernelspec": {
   "display_name": "Python 3",
   "language": "python",
   "name": "python3"
  },
  "language_info": {
   "codemirror_mode": {
    "name": "ipython",
    "version": 3
   },
   "file_extension": ".py",
   "mimetype": "text/x-python",
   "name": "python",
   "nbconvert_exporter": "python",
   "pygments_lexer": "ipython3",
   "version": "3.8.3"
  }
 },
 "nbformat": 4,
 "nbformat_minor": 4
}
