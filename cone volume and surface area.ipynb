{
 "cells": [
  {
   "cell_type": "code",
   "execution_count": 67,
   "metadata": {},
   "outputs": [
    {
     "name": "stdout",
     "output_type": "stream",
     "text": [
      "volume is  20.94395102393195\n",
      "base area is 12.566370614359172\n",
      "side is 33.8359883929281\n",
      "surface area  46.402359007287274\n"
     ]
    }
   ],
   "source": [
    "import math\n",
    "class cone():\n",
    "    def volume(r, h):\n",
    "    \n",
    "       return(1 / 3)* math.pi* r * r * h\n",
    "    def base(r, h):\n",
    "        \n",
    "        return math.pi * r*r\n",
    "    \n",
    "    def side(r,h):\n",
    "        return math.pi * r*((h*h + r*r)**0.5)\n",
    "\n",
    "    radius = float(2)\n",
    "\n",
    "    height = float(5)\n",
    "    \n",
    "    print(\"volume is \" , volume(radius,height))\n",
    "    \n",
    "    print(\"base area is\", base(radius , height))\n",
    "    \n",
    "    print(\"side is\", side(radius,height))\n",
    "    \n",
    "    print(\"surface area \", side(radius , height)+ base(radius , height))"
   ]
  },
  {
   "cell_type": "code",
   "execution_count": null,
   "metadata": {},
   "outputs": [],
   "source": []
  }
 ],
 "metadata": {
  "kernelspec": {
   "display_name": "Python 3",
   "language": "python",
   "name": "python3"
  },
  "language_info": {
   "codemirror_mode": {
    "name": "ipython",
    "version": 3
   },
   "file_extension": ".py",
   "mimetype": "text/x-python",
   "name": "python",
   "nbconvert_exporter": "python",
   "pygments_lexer": "ipython3",
   "version": "3.8.3"
  }
 },
 "nbformat": 4,
 "nbformat_minor": 4
}
