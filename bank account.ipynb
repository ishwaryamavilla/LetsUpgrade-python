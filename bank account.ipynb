{
 "cells": [
  {
   "cell_type": "code",
   "execution_count": 22,
   "metadata": {},
   "outputs": [
    {
     "name": "stdout",
     "output_type": "stream",
     "text": [
      "amount deposited = 50000\n",
      "100000\n"
     ]
    }
   ],
   "source": [
    "class bankAccount():\n",
    "    def __init__(self, initial_balance =0):\n",
    "        self.balance = initial_balance\n",
    "        \n",
    "    def ownersname(self, name):\n",
    "        self.name =\"ishwarya\"\n",
    "        \n",
    "    def getdetails(self):\n",
    "        print(self.name)\n",
    "        \n",
    "    def deposit(self, amount):\n",
    "        #amount = float(input('enter the amount to be deposited'))\n",
    "        self.balance += amount\n",
    "        print('amount deposited =',amount)\n",
    "    \n",
    "    def withdraw(self , amount):\n",
    "       # amount = float(input(\"enter the amount to be withdraw\"))\n",
    "       # if amount<self.balance:\n",
    "       #     return \"entered amount is more than the available balance \"\n",
    "       # else:\n",
    "            self.balance -= amount\n",
    "            print(\"amount withdrawn =\", amount)\n",
    "    def overdraw(self , amount):\n",
    "        return self.balance < 0 \n",
    "    \n",
    "my_account = bankAccount(50000) \n",
    "my_account.deposit(50000)\n",
    "#my_account.withdraw(0)\n",
    "print(my_account.balance)"
   ]
  },
  {
   "cell_type": "code",
   "execution_count": null,
   "metadata": {},
   "outputs": [],
   "source": []
  }
 ],
 "metadata": {
  "kernelspec": {
   "display_name": "Python 3",
   "language": "python",
   "name": "python3"
  },
  "language_info": {
   "codemirror_mode": {
    "name": "ipython",
    "version": 3
   },
   "file_extension": ".py",
   "mimetype": "text/x-python",
   "name": "python",
   "nbconvert_exporter": "python",
   "pygments_lexer": "ipython3",
   "version": "3.8.3"
  }
 },
 "nbformat": 4,
 "nbformat_minor": 4
}
